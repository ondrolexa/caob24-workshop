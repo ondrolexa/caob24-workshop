{
 "cells": [
  {
   "cell_type": "markdown",
   "metadata": {},
   "source": [
    "# APSG tutorial - Part 4"
   ]
  },
  {
   "cell_type": "code",
   "execution_count": 1,
   "metadata": {
    "execution": {
     "iopub.execute_input": "2024-05-27T07:50:36.183172Z",
     "iopub.status.busy": "2024-05-27T07:50:36.182520Z",
     "iopub.status.idle": "2024-05-27T07:50:36.805805Z",
     "shell.execute_reply": "2024-05-27T07:50:36.805301Z"
    },
    "tags": []
   },
   "outputs": [],
   "source": [
    "from apsg import *"
   ]
  },
  {
   "cell_type": "markdown",
   "metadata": {},
   "source": [
    "## Matrix like classes and tensors\n",
    "**APSG** provides matrix-like classes to work with tensor quantities used commonly in structural geology analysis. It includes `DefGrad3` and `VelGrad3` for deformation and velocity gradient, `Stress3` for stress tensor, `Ellipsoid` for quadratic forms and `Ortensor3` for orientation tensor. All these classes support common matrix mathematical operations and provide basic methods and properties.\n",
    "\n",
    "All matrix-like objects could be created either by passing nested list or tuple or providing individual components to class method `from_comp`"
   ]
  },
  {
   "cell_type": "code",
   "execution_count": 2,
   "metadata": {
    "execution": {
     "iopub.execute_input": "2024-05-27T07:50:36.807999Z",
     "iopub.status.busy": "2024-05-27T07:50:36.807761Z",
     "iopub.status.idle": "2024-05-27T07:50:36.812849Z",
     "shell.execute_reply": "2024-05-27T07:50:36.812485Z"
    },
    "tags": []
   },
   "outputs": [
    {
     "data": {
      "text/plain": [
       "DeformationGradient3\n",
       "[[2.  0.  1. ]\n",
       " [0.  1.  0. ]\n",
       " [0.  0.  0.5]]"
      ]
     },
     "execution_count": 2,
     "metadata": {},
     "output_type": "execute_result"
    }
   ],
   "source": [
    "F = defgrad([[2, 0, 1], [0, 1, 0], [0, 0, 0.5]])\n",
    "F"
   ]
  },
  {
   "cell_type": "code",
   "execution_count": 3,
   "metadata": {
    "execution": {
     "iopub.execute_input": "2024-05-27T07:50:36.841984Z",
     "iopub.status.busy": "2024-05-27T07:50:36.841760Z",
     "iopub.status.idle": "2024-05-27T07:50:36.845424Z",
     "shell.execute_reply": "2024-05-27T07:50:36.844978Z"
    },
    "tags": []
   },
   "outputs": [
    {
     "data": {
      "text/plain": [
       "DeformationGradient3\n",
       "[[2.  0.  1. ]\n",
       " [0.  1.  0. ]\n",
       " [0.  0.  0.5]]"
      ]
     },
     "execution_count": 3,
     "metadata": {},
     "output_type": "execute_result"
    }
   ],
   "source": [
    "F = defgrad.from_comp(xx=2, zz=0.5, xz=1)\n",
    "F"
   ]
  },
  {
   "cell_type": "markdown",
   "metadata": {},
   "source": [
    "For multiplifications of matrix or vectors we have to use matmul `@` operator"
   ]
  },
  {
   "cell_type": "code",
   "execution_count": 4,
   "metadata": {
    "execution": {
     "iopub.execute_input": "2024-05-27T07:50:36.847137Z",
     "iopub.status.busy": "2024-05-27T07:50:36.846968Z",
     "iopub.status.idle": "2024-05-27T07:50:36.850155Z",
     "shell.execute_reply": "2024-05-27T07:50:36.849803Z"
    },
    "tags": []
   },
   "outputs": [
    {
     "data": {
      "text/plain": [
       "Vector3(1, 0, 0.5)"
      ]
     },
     "execution_count": 4,
     "metadata": {},
     "output_type": "execute_result"
    }
   ],
   "source": [
    "v = vec('z') # unit-length vector in direction af axis z\n",
    "u = F @ v\n",
    "u"
   ]
  },
  {
   "cell_type": "markdown",
   "metadata": {},
   "source": [
    "`I` property returns inverse matrix"
   ]
  },
  {
   "cell_type": "code",
   "execution_count": 5,
   "metadata": {
    "execution": {
     "iopub.execute_input": "2024-05-27T07:50:36.851874Z",
     "iopub.status.busy": "2024-05-27T07:50:36.851706Z",
     "iopub.status.idle": "2024-05-27T07:50:36.855156Z",
     "shell.execute_reply": "2024-05-27T07:50:36.854671Z"
    },
    "tags": []
   },
   "outputs": [
    {
     "data": {
      "text/plain": [
       "Vector3(0, 0, 1)"
      ]
     },
     "execution_count": 5,
     "metadata": {},
     "output_type": "execute_result"
    }
   ],
   "source": [
    "F.I @ u"
   ]
  },
  {
   "cell_type": "markdown",
   "metadata": {},
   "source": [
    "To transpose matrix, we can use `T` property and for multiplification we have to use `@` operator"
   ]
  },
  {
   "cell_type": "code",
   "execution_count": 6,
   "metadata": {
    "execution": {
     "iopub.execute_input": "2024-05-27T07:50:36.856747Z",
     "iopub.status.busy": "2024-05-27T07:50:36.856533Z",
     "iopub.status.idle": "2024-05-27T07:50:36.859707Z",
     "shell.execute_reply": "2024-05-27T07:50:36.859402Z"
    },
    "tags": []
   },
   "outputs": [
    {
     "data": {
      "text/plain": [
       "DeformationGradient3\n",
       "[[4.   0.   2.  ]\n",
       " [0.   1.   0.  ]\n",
       " [2.   0.   1.25]]"
      ]
     },
     "execution_count": 6,
     "metadata": {},
     "output_type": "execute_result"
    }
   ],
   "source": [
    "F.T @ F"
   ]
  },
  {
   "cell_type": "code",
   "execution_count": 7,
   "metadata": {
    "execution": {
     "iopub.execute_input": "2024-05-27T07:50:36.861387Z",
     "iopub.status.busy": "2024-05-27T07:50:36.861201Z",
     "iopub.status.idle": "2024-05-27T07:50:36.864319Z",
     "shell.execute_reply": "2024-05-27T07:50:36.863993Z"
    },
    "tags": []
   },
   "outputs": [
    {
     "data": {
      "text/plain": [
       "1.25"
      ]
     },
     "execution_count": 7,
     "metadata": {},
     "output_type": "execute_result"
    }
   ],
   "source": [
    "v @ F.T @ F @ v"
   ]
  },
  {
   "cell_type": "markdown",
   "metadata": {},
   "source": [
    "Eigenvalues and eigenvectors could be obtained by methods `eigenvalues` and `eigenvectors`. Individual eigenvalues and eigen vectors could be accessed by properties `E1`, `E2`, `E3` and `V1`, `V2`, `V3`"
   ]
  },
  {
   "cell_type": "markdown",
   "metadata": {},
   "source": [
    "#### Deformation gradient and rotations\n",
    "\n",
    "Deformation gradient `DeformationGradient3` could describe distorsion, dilation and rigid-body rotation. All **APSG** features provides `transform` method which transform then using provided deformation gradient.\n",
    "\n",
    "The rigid-body rotation could be either extracted from deformation gradient using `R` method:"
   ]
  },
  {
   "cell_type": "code",
   "execution_count": 8,
   "metadata": {
    "execution": {
     "iopub.execute_input": "2024-05-27T07:50:36.866108Z",
     "iopub.status.busy": "2024-05-27T07:50:36.865943Z",
     "iopub.status.idle": "2024-05-27T07:50:36.870952Z",
     "shell.execute_reply": "2024-05-27T07:50:36.870578Z"
    },
    "tags": []
   },
   "outputs": [
    {
     "data": {
      "text/plain": [
       "DeformationGradient3\n",
       "[[ 0.928  0.     0.371]\n",
       " [ 0.     1.     0.   ]\n",
       " [-0.371  0.     0.928]]"
      ]
     },
     "execution_count": 8,
     "metadata": {},
     "output_type": "execute_result"
    }
   ],
   "source": [
    "R = F.R\n",
    "R"
   ]
  },
  {
   "cell_type": "markdown",
   "metadata": {},
   "source": [
    "or could be created of one of the class methods like `from_axisangle`, defining axis of rotation and angle"
   ]
  },
  {
   "cell_type": "code",
   "execution_count": 9,
   "metadata": {
    "execution": {
     "iopub.execute_input": "2024-05-27T07:50:36.872626Z",
     "iopub.status.busy": "2024-05-27T07:50:36.872342Z",
     "iopub.status.idle": "2024-05-27T07:50:36.875728Z",
     "shell.execute_reply": "2024-05-27T07:50:36.875282Z"
    },
    "tags": []
   },
   "outputs": [
    {
     "data": {
      "text/plain": [
       "DeformationGradient3\n",
       "[[ 0.552 -0.753  0.359]\n",
       " [ 0.574  0.655  0.492]\n",
       " [-0.605 -0.065  0.793]]"
      ]
     },
     "execution_count": 9,
     "metadata": {},
     "output_type": "execute_result"
    }
   ],
   "source": [
    "R = defgrad.from_axisangle(lin(120, 50), 60)\n",
    "R"
   ]
  },
  {
   "cell_type": "markdown",
   "metadata": {},
   "source": [
    "`from_two_vectors`, where axis of rotation is perpendicular to both vectors and angle is angle of vectors"
   ]
  },
  {
   "cell_type": "code",
   "execution_count": 10,
   "metadata": {
    "execution": {
     "iopub.execute_input": "2024-05-27T07:50:36.877466Z",
     "iopub.status.busy": "2024-05-27T07:50:36.877283Z",
     "iopub.status.idle": "2024-05-27T07:50:36.881019Z",
     "shell.execute_reply": "2024-05-27T07:50:36.880728Z"
    },
    "tags": []
   },
   "outputs": [
    {
     "data": {
      "text/plain": [
       "DeformationGradient3\n",
       "[[ 0.938  0.074  0.339]\n",
       " [ 0.186  0.718 -0.671]\n",
       " [-0.294  0.692  0.66 ]]"
      ]
     },
     "execution_count": 10,
     "metadata": {},
     "output_type": "execute_result"
    }
   ],
   "source": [
    "R = defgrad.from_two_vectors(lin(120, 50), lin(270, 80))\n",
    "R"
   ]
  },
  {
   "cell_type": "code",
   "execution_count": 11,
   "metadata": {
    "execution": {
     "iopub.execute_input": "2024-05-27T07:50:36.882625Z",
     "iopub.status.busy": "2024-05-27T07:50:36.882452Z",
     "iopub.status.idle": "2024-05-27T07:50:36.885961Z",
     "shell.execute_reply": "2024-05-27T07:50:36.885488Z"
    },
    "tags": []
   },
   "outputs": [
    {
     "data": {
      "text/plain": [
       "L:270/80"
      ]
     },
     "execution_count": 11,
     "metadata": {},
     "output_type": "execute_result"
    }
   ],
   "source": [
    "lin(120, 50).transform(R)"
   ]
  },
  {
   "cell_type": "markdown",
   "metadata": {},
   "source": [
    "or by `from_vectors_axis`, where `axis` do not need to by perpendicular to vectors. Note that rotation axis needs to be adjusted to provide correct rotation of vector."
   ]
  },
  {
   "cell_type": "code",
   "execution_count": 12,
   "metadata": {
    "execution": {
     "iopub.execute_input": "2024-05-27T07:50:36.887816Z",
     "iopub.status.busy": "2024-05-27T07:50:36.887640Z",
     "iopub.status.idle": "2024-05-27T07:50:36.891510Z",
     "shell.execute_reply": "2024-05-27T07:50:36.891140Z"
    },
    "tags": []
   },
   "outputs": [
    {
     "data": {
      "text/plain": [
       "DeformationGradient3\n",
       "[[-0.393 -0.864  0.315]\n",
       " [ 0.864 -0.23   0.448]\n",
       " [-0.315  0.448  0.837]]"
      ]
     },
     "execution_count": 12,
     "metadata": {},
     "output_type": "execute_result"
    }
   ],
   "source": [
    "R = defgrad.from_vectors_axis(lin(45,30), lin(135, 30), lin(90, 70))\n",
    "R"
   ]
  },
  {
   "cell_type": "code",
   "execution_count": 13,
   "metadata": {
    "execution": {
     "iopub.execute_input": "2024-05-27T07:50:36.893349Z",
     "iopub.status.busy": "2024-05-27T07:50:36.893053Z",
     "iopub.status.idle": "2024-05-27T07:50:36.896266Z",
     "shell.execute_reply": "2024-05-27T07:50:36.895817Z"
    },
    "tags": []
   },
   "outputs": [
    {
     "data": {
      "text/plain": [
       "L:135/30"
      ]
     },
     "execution_count": 13,
     "metadata": {},
     "output_type": "execute_result"
    }
   ],
   "source": [
    "lin(45,30).transform(R)"
   ]
  },
  {
   "cell_type": "code",
   "execution_count": 14,
   "metadata": {
    "execution": {
     "iopub.execute_input": "2024-05-27T07:50:36.898106Z",
     "iopub.status.busy": "2024-05-27T07:50:36.897898Z",
     "iopub.status.idle": "2024-05-27T07:50:36.901250Z",
     "shell.execute_reply": "2024-05-27T07:50:36.900877Z"
    },
    "tags": []
   },
   "outputs": [
    {
     "name": "stdout",
     "output_type": "stream",
     "text": [
      "L:90/70 113.11571469196132\n"
     ]
    }
   ],
   "source": [
    "a, ang = R.axisangle()\n",
    "print(lin(a), ang)"
   ]
  },
  {
   "cell_type": "markdown",
   "metadata": {},
   "source": [
    "`from_two_pairs` method, to describe rotation between two coordinate systems. Note that pair define X axis as lineation vector and Z axis as foliation vector."
   ]
  },
  {
   "cell_type": "code",
   "execution_count": 15,
   "metadata": {
    "execution": {
     "iopub.execute_input": "2024-05-27T07:50:36.903085Z",
     "iopub.status.busy": "2024-05-27T07:50:36.902919Z",
     "iopub.status.idle": "2024-05-27T07:50:36.908051Z",
     "shell.execute_reply": "2024-05-27T07:50:36.907741Z"
    },
    "tags": []
   },
   "outputs": [
    {
     "data": {
      "text/plain": [
       "DeformationGradient3\n",
       "[[-0.071  0.97   0.234]\n",
       " [-0.874 -0.174  0.453]\n",
       " [ 0.48  -0.173  0.86 ]]"
      ]
     },
     "execution_count": 15,
     "metadata": {},
     "output_type": "execute_result"
    }
   ],
   "source": [
    "p1 = pair(150, 60, 90, 40)\n",
    "p2 = pair(45, 30, 10, 25)\n",
    "R = defgrad.from_two_pairs(p1, p2)\n",
    "R"
   ]
  },
  {
   "cell_type": "code",
   "execution_count": 16,
   "metadata": {
    "execution": {
     "iopub.execute_input": "2024-05-27T07:50:36.909866Z",
     "iopub.status.busy": "2024-05-27T07:50:36.909700Z",
     "iopub.status.idle": "2024-05-27T07:50:36.913168Z",
     "shell.execute_reply": "2024-05-27T07:50:36.912853Z"
    },
    "tags": []
   },
   "outputs": [
    {
     "data": {
      "text/plain": [
       "P:45/30-10/25"
      ]
     },
     "execution_count": 16,
     "metadata": {},
     "output_type": "execute_result"
    }
   ],
   "source": [
    "p1.transform(R)"
   ]
  },
  {
   "cell_type": "markdown",
   "metadata": {},
   "source": [
    "### Ellipsoid\n",
    "\n",
    "In deformation analysis, the quadratic forms are represented by `Ellipsoid` class. It could be used to represents either ellipsoid objects or finite strain ellipsoid.\n",
    "\n",
    "It provides additional methods and properties including `lambda1`, `lambda2` and `lambda3` for square-root of eigenvalues, Woodcock's `shape` and `strength`, `k`, `K`, `d` and `D` for Flinn's and Ramsay symmetries and intensities, `lode` for Lode's parameter etc. For more check documentation. Eigenvectors could be also represented by linear or planar features using properties `eigenlins` and `eigenfols`.\n",
    "\n",
    "We can create `Ellipsoid` object similarly to `Matrix3` (note that only components of upper triangular part are available in `from_comp` method due to matrix symmetry), or you can use aditional class methods `from_defgrad` and `from_stretch`."
   ]
  },
  {
   "cell_type": "code",
   "execution_count": 17,
   "metadata": {
    "execution": {
     "iopub.execute_input": "2024-05-27T07:50:36.914925Z",
     "iopub.status.busy": "2024-05-27T07:50:36.914751Z",
     "iopub.status.idle": "2024-05-27T07:50:36.918796Z",
     "shell.execute_reply": "2024-05-27T07:50:36.918359Z"
    },
    "tags": []
   },
   "outputs": [
    {
     "data": {
      "text/plain": [
       "Ellipsoid\n",
       "[[5.   0.   0.5 ]\n",
       " [0.   1.   0.  ]\n",
       " [0.5  0.   0.25]]\n",
       "(S1:2.25, S2:1, S3:0.445)"
      ]
     },
     "execution_count": 17,
     "metadata": {},
     "output_type": "execute_result"
    }
   ],
   "source": [
    "B = ellipsoid.from_defgrad(F)  # Finger deformation tensor\n",
    "B"
   ]
  },
  {
   "cell_type": "markdown",
   "metadata": {},
   "source": [
    "In above example, the Finger deformation tensor `B` represents finite strain ellipsoid reulting from deformation described by deformation gradient `F`. We can explore several parameters:"
   ]
  },
  {
   "cell_type": "code",
   "execution_count": 18,
   "metadata": {
    "execution": {
     "iopub.execute_input": "2024-05-27T07:50:36.920609Z",
     "iopub.status.busy": "2024-05-27T07:50:36.920443Z",
     "iopub.status.idle": "2024-05-27T07:50:36.924160Z",
     "shell.execute_reply": "2024-05-27T07:50:36.923674Z"
    },
    "tags": []
   },
   "outputs": [
    {
     "name": "stdout",
     "output_type": "stream",
     "text": [
      "Principal stretches: Sx=2.2476790206496235, Sy=1.0, Sz=0.44490338291762865\n",
      "Principal strain ratios: Rxy=2.2476790206496235, Ryz=2.2476790206496235\n",
      "Flinn's finite strain parameters: d=1.7644845924910786, k=1.0\n",
      "Ramsay's finite strain parameters: d=1.3118699860194973, k=1.0\n",
      "Woodcock's parameters: strength=1.6197962748565002, shape=1.0\n",
      "Watterson's strain intesity: s3.495358041299247\n",
      "Nadai's natural octahedral unit shear: 1.3225581202197996\n",
      "Nadai's natural octahedral unit strain: 1.14536893009174\n",
      "Lode's parameter: 0.0\n"
     ]
    }
   ],
   "source": [
    "print(f'Principal stretches: Sx={B.S1}, Sy={B.S2}, Sz={B.S3}')\n",
    "print(f'Principal strain ratios: Rxy={B.Rxy}, Ryz={B.Ryz}')\n",
    "print(f\"Flinn's finite strain parameters: d={B.d}, k={B.k}\")\n",
    "print(f\"Ramsay's finite strain parameters: d={B.D}, k={B.K}\")\n",
    "print(f\"Woodcock's parameters: strength={B.strength}, shape={B.shape}\")\n",
    "print(f\"Watterson's strain intesity: s{B.r}\")\n",
    "print(f\"Nadai's natural octahedral unit shear: {B.goct}\")\n",
    "print(f\"Nadai's natural octahedral unit strain: {B.eoct}\")\n",
    "print(f\"Lode's parameter: {B.lode}\")"
   ]
  },
  {
   "cell_type": "code",
   "execution_count": 19,
   "metadata": {
    "execution": {
     "iopub.execute_input": "2024-05-27T07:50:36.925999Z",
     "iopub.status.busy": "2024-05-27T07:50:36.925835Z",
     "iopub.status.idle": "2024-05-27T07:50:36.929171Z",
     "shell.execute_reply": "2024-05-27T07:50:36.928885Z"
    },
    "tags": []
   },
   "outputs": [
    {
     "data": {
      "text/plain": [
       "Ellipsoid\n",
       "[[4.   0.   2.  ]\n",
       " [0.   1.   0.  ]\n",
       " [2.   0.   1.25]]\n",
       "(S1:2.25, S2:1, S3:0.445)"
      ]
     },
     "execution_count": 19,
     "metadata": {},
     "output_type": "execute_result"
    }
   ],
   "source": [
    "C = ellipsoid.from_defgrad(F, 'right')  # Green's deformation tensor\n",
    "C"
   ]
  },
  {
   "cell_type": "code",
   "execution_count": 20,
   "metadata": {
    "execution": {
     "iopub.execute_input": "2024-05-27T07:50:36.931042Z",
     "iopub.status.busy": "2024-05-27T07:50:36.930876Z",
     "iopub.status.idle": "2024-05-27T07:50:36.933908Z",
     "shell.execute_reply": "2024-05-27T07:50:36.933416Z"
    },
    "tags": []
   },
   "outputs": [
    {
     "data": {
      "text/plain": [
       "1.25"
      ]
     },
     "execution_count": 20,
     "metadata": {},
     "output_type": "execute_result"
    }
   ],
   "source": [
    "v @ C @ v"
   ]
  },
  {
   "cell_type": "markdown",
   "metadata": {},
   "source": [
    "### Orientation tensor\n",
    "`OrientationTensor3` class represents orientation tensor of set of vectors, linear or planar features. In adition to `Ellipsoid` methods and properties, it provides properties to describe orientation distribution, e.g. Vollmer's `P`, `G`, `R` and `B` indexes, `Intensity` for Lisle intensity index and `MAD` for approximate angular deviation."
   ]
  },
  {
   "cell_type": "code",
   "execution_count": 21,
   "metadata": {
    "execution": {
     "iopub.execute_input": "2024-05-27T07:50:36.935725Z",
     "iopub.status.busy": "2024-05-27T07:50:36.935560Z",
     "iopub.status.idle": "2024-05-27T07:50:36.949021Z",
     "shell.execute_reply": "2024-05-27T07:50:36.948667Z"
    },
    "tags": []
   },
   "outputs": [
    {
     "data": {
      "text/plain": [
       "OrientationTensor3\n",
       "[[ 0.151 -0.2   -0.209]\n",
       " [-0.2    0.411  0.377]\n",
       " [-0.209  0.377  0.439]]\n",
       "(S1:0.955, S2:0.217, S3:0.202)"
      ]
     },
     "execution_count": 21,
     "metadata": {},
     "output_type": "execute_result"
    }
   ],
   "source": [
    "l = linset.random_fisher(position=lin(120,40))\n",
    "ot = l.ortensor()\n",
    "# or\n",
    "ot = ortensor.from_features(l)\n",
    "ot"
   ]
  },
  {
   "cell_type": "code",
   "execution_count": 22,
   "metadata": {
    "execution": {
     "iopub.execute_input": "2024-05-27T07:50:36.951016Z",
     "iopub.status.busy": "2024-05-27T07:50:36.950659Z",
     "iopub.status.idle": "2024-05-27T07:50:36.953885Z",
     "shell.execute_reply": "2024-05-27T07:50:36.953491Z"
    },
    "tags": []
   },
   "outputs": [
    {
     "data": {
      "text/plain": [
       "array([0.91221684, 0.04711716, 0.040666  ])"
      ]
     },
     "execution_count": 22,
     "metadata": {},
     "output_type": "execute_result"
    }
   ],
   "source": [
    "ot.eigenvalues()"
   ]
  },
  {
   "cell_type": "code",
   "execution_count": 23,
   "metadata": {
    "execution": {
     "iopub.execute_input": "2024-05-27T07:50:36.955527Z",
     "iopub.status.busy": "2024-05-27T07:50:36.955367Z",
     "iopub.status.idle": "2024-05-27T07:50:36.958507Z",
     "shell.execute_reply": "2024-05-27T07:50:36.958217Z"
    },
    "tags": []
   },
   "outputs": [
    {
     "data": {
      "text/plain": [
       "(Vector3(-0.355, 0.648, 0.673),\n",
       " Vector3(-0.157, -0.751, 0.641),\n",
       " Vector3(0.922, 0.122, 0.369))"
      ]
     },
     "execution_count": 23,
     "metadata": {},
     "output_type": "execute_result"
    }
   ],
   "source": [
    "ot.eigenvectors()"
   ]
  },
  {
   "cell_type": "code",
   "execution_count": 24,
   "metadata": {
    "execution": {
     "iopub.execute_input": "2024-05-27T07:50:36.960117Z",
     "iopub.status.busy": "2024-05-27T07:50:36.959954Z",
     "iopub.status.idle": "2024-05-27T07:50:36.962840Z",
     "shell.execute_reply": "2024-05-27T07:50:36.962502Z"
    },
    "tags": []
   },
   "outputs": [
    {
     "data": {
      "text/plain": [
       "'L'"
      ]
     },
     "execution_count": 24,
     "metadata": {},
     "output_type": "execute_result"
    }
   ],
   "source": [
    "ot.kind"
   ]
  },
  {
   "cell_type": "markdown",
   "metadata": {},
   "source": [
    "The instances of `Stress3`, `Ellipsoid` and `OrientationTensor3` also provides `eigenlins` and `eigenfols` properties to represent principal axes and planes"
   ]
  },
  {
   "cell_type": "code",
   "execution_count": 25,
   "metadata": {
    "execution": {
     "iopub.execute_input": "2024-05-27T07:50:36.964557Z",
     "iopub.status.busy": "2024-05-27T07:50:36.964397Z",
     "iopub.status.idle": "2024-05-27T07:50:36.967626Z",
     "shell.execute_reply": "2024-05-27T07:50:36.967336Z"
    },
    "tags": []
   },
   "outputs": [
    {
     "data": {
      "text/plain": [
       "(L:119/42, L:258/40, L:8/22)"
      ]
     },
     "execution_count": 25,
     "metadata": {},
     "output_type": "execute_result"
    }
   ],
   "source": [
    "ot.eigenlins"
   ]
  },
  {
   "cell_type": "code",
   "execution_count": 26,
   "metadata": {
    "execution": {
     "iopub.execute_input": "2024-05-27T07:50:36.969330Z",
     "iopub.status.busy": "2024-05-27T07:50:36.969131Z",
     "iopub.status.idle": "2024-05-27T07:50:36.972723Z",
     "shell.execute_reply": "2024-05-27T07:50:36.972274Z"
    },
    "tags": []
   },
   "outputs": [
    {
     "data": {
      "text/plain": [
       "(S:299/48, S:78/50, S:188/68)"
      ]
     },
     "execution_count": 26,
     "metadata": {},
     "output_type": "execute_result"
    }
   ],
   "source": [
    "ot.eigenfols"
   ]
  },
  {
   "cell_type": "code",
   "execution_count": 27,
   "metadata": {
    "execution": {
     "iopub.execute_input": "2024-05-27T07:50:36.974600Z",
     "iopub.status.busy": "2024-05-27T07:50:36.974307Z",
     "iopub.status.idle": "2024-05-27T07:50:36.977160Z",
     "shell.execute_reply": "2024-05-27T07:50:36.976860Z"
    },
    "tags": []
   },
   "outputs": [
    {
     "data": {
      "text/plain": [
       "(1.555242736573926, 20.124556544314146)"
      ]
     },
     "execution_count": 27,
     "metadata": {},
     "output_type": "execute_result"
    }
   ],
   "source": [
    "ot.strength, ot.shape"
   ]
  },
  {
   "cell_type": "code",
   "execution_count": 28,
   "metadata": {
    "execution": {
     "iopub.execute_input": "2024-05-27T07:50:36.978880Z",
     "iopub.status.busy": "2024-05-27T07:50:36.978714Z",
     "iopub.status.idle": "2024-05-27T07:50:36.981778Z",
     "shell.execute_reply": "2024-05-27T07:50:36.981251Z"
    },
    "tags": []
   },
   "outputs": [
    {
     "data": {
      "text/plain": [
       "(44.50329359634269, 3.4009273058322886)"
      ]
     },
     "execution_count": 28,
     "metadata": {},
     "output_type": "execute_result"
    }
   ],
   "source": [
    "ot.k, ot.d"
   ]
  },
  {
   "cell_type": "code",
   "execution_count": 29,
   "metadata": {
    "execution": {
     "iopub.execute_input": "2024-05-27T07:50:36.983398Z",
     "iopub.status.busy": "2024-05-27T07:50:36.983224Z",
     "iopub.status.idle": "2024-05-27T07:50:36.986147Z",
     "shell.execute_reply": "2024-05-27T07:50:36.985795Z"
    },
    "tags": []
   },
   "outputs": [
    {
     "data": {
      "text/plain": [
       "(20.124556544314146, 2.2006187882817034)"
      ]
     },
     "execution_count": 29,
     "metadata": {},
     "output_type": "execute_result"
    }
   ],
   "source": [
    "ot.K, ot.D"
   ]
  },
  {
   "cell_type": "code",
   "execution_count": 30,
   "metadata": {
    "execution": {
     "iopub.execute_input": "2024-05-27T07:50:36.987877Z",
     "iopub.status.busy": "2024-05-27T07:50:36.987712Z",
     "iopub.status.idle": "2024-05-27T07:50:36.991006Z",
     "shell.execute_reply": "2024-05-27T07:50:36.990570Z"
    },
    "tags": []
   },
   "outputs": [
    {
     "data": {
      "text/plain": [
       "(0.8650996845262144, 0.01290232838425455, 0.12199798708953058)"
      ]
     },
     "execution_count": 30,
     "metadata": {},
     "output_type": "execute_result"
    }
   ],
   "source": [
    "ot.P, ot.G, ot.R"
   ]
  },
  {
   "cell_type": "code",
   "execution_count": 31,
   "metadata": {
    "execution": {
     "iopub.execute_input": "2024-05-27T07:50:36.992657Z",
     "iopub.status.busy": "2024-05-27T07:50:36.992490Z",
     "iopub.status.idle": "2024-05-27T07:50:36.996035Z",
     "shell.execute_reply": "2024-05-27T07:50:36.995635Z"
    },
    "tags": []
   },
   "outputs": [
    {
     "data": {
      "text/plain": [
       "17.23444100019727"
      ]
     },
     "execution_count": 31,
     "metadata": {},
     "output_type": "execute_result"
    }
   ],
   "source": [
    "ot.MAD"
   ]
  }
 ],
 "metadata": {
  "kernelspec": {
   "display_name": "Python 3 (ipykernel)",
   "language": "python",
   "name": "python3"
  },
  "language_info": {
   "codemirror_mode": {
    "name": "ipython",
    "version": 3
   },
   "file_extension": ".py",
   "mimetype": "text/x-python",
   "name": "python",
   "nbconvert_exporter": "python",
   "pygments_lexer": "ipython3",
   "version": "3.12.3"
  }
 },
 "nbformat": 4,
 "nbformat_minor": 4
}
